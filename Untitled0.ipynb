{
  "nbformat": 4,
  "nbformat_minor": 0,
  "metadata": {
    "colab": {
      "provenance": [],
      "authorship_tag": "ABX9TyPKlCC5neD38f+1rD9psnhP",
      "include_colab_link": true
    },
    "kernelspec": {
      "name": "python3",
      "display_name": "Python 3"
    },
    "language_info": {
      "name": "python"
    }
  },
  "cells": [
    {
      "cell_type": "markdown",
      "metadata": {
        "id": "view-in-github",
        "colab_type": "text"
      },
      "source": [
        "<a href=\"https://colab.research.google.com/github/RaghavanSivakumaran/programmingpractice/blob/main/Untitled0.ipynb\" target=\"_parent\"><img src=\"https://colab.research.google.com/assets/colab-badge.svg\" alt=\"Open In Colab\"/></a>"
      ]
    },
    {
      "cell_type": "code",
      "execution_count": 3,
      "metadata": {
        "colab": {
          "base_uri": "https://localhost:8080/"
        },
        "id": "KbTGlY7P9-Pc",
        "outputId": "12dd8c68-5466-4adf-84de-af7917276660"
      },
      "outputs": [
        {
          "output_type": "stream",
          "name": "stdout",
          "text": [
            "Hello world!\n",
            "Hello world!\n",
            "Hello world!\n",
            "Hello world!\n",
            "Hello world!\n",
            "Hello world!\n",
            "Hello world!\n",
            "Hello world!\n",
            "Hello world!\n",
            "Hello world!\n"
          ]
        }
      ],
      "source": [
        "for i in range(10):\n",
        "       print(\"Hello world!\")"
      ]
    },
    {
      "cell_type": "code",
      "source": [
        "# using return values\n",
        "def area_of_triangle(base,height):\n",
        "    return base*height/2\n",
        "\n",
        "area_a = area_of_triangle(5,7)\n",
        "area_b = area_of_triangle(7,8)\n",
        "sum = area_a + area_b\n",
        "print (\"The sum of the area is: \" + str(sum))"
      ],
      "metadata": {
        "colab": {
          "base_uri": "https://localhost:8080/"
        },
        "id": "yCQkmpX1Xoab",
        "outputId": "a549bb5b-05c2-40d1-b354-f355ec7806d5"
      },
      "execution_count": 8,
      "outputs": [
        {
          "output_type": "stream",
          "name": "stdout",
          "text": [
            "The sum of the area is: 45.5\n"
          ]
        }
      ]
    },
    {
      "cell_type": "code",
      "source": [
        "def convert_seconds(seconds):\n",
        "    hours = seconds//3600\n",
        "    minutes = (seconds-hours*3600)//60\n",
        "    remaining_seconds = seconds - hours*3600 - minutes*60\n",
        "    return hours, minutes, remaining_seconds\n",
        "\n",
        "hours, minutes, remaining_seconds = convert_seconds(6000)\n",
        "print(hours,minutes,remaining_seconds)"
      ],
      "metadata": {
        "colab": {
          "base_uri": "https://localhost:8080/"
        },
        "id": "BRoq_iEVbCCI",
        "outputId": "5e4e823e-a56f-4f0a-fbb0-080629ad8a57"
      },
      "execution_count": 11,
      "outputs": [
        {
          "output_type": "stream",
          "name": "stdout",
          "text": [
            "1 40 0\n"
          ]
        }
      ]
    },
    {
      "cell_type": "code",
      "source": [
        "areaoftriangle = area_of_triangle(25,30)\n",
        "print(areaoftriangle)"
      ],
      "metadata": {
        "colab": {
          "base_uri": "https://localhost:8080/"
        },
        "id": "dnH0-IOSeu3X",
        "outputId": "8122b12c-848b-4696-b197-64d979e300fe"
      },
      "execution_count": 13,
      "outputs": [
        {
          "output_type": "stream",
          "name": "stdout",
          "text": [
            "375.0\n"
          ]
        }
      ]
    },
    {
      "cell_type": "code",
      "source": [
        "print(not\"A\">\"a\")"
      ],
      "metadata": {
        "colab": {
          "base_uri": "https://localhost:8080/"
        },
        "id": "NL90NbKUvutV",
        "outputId": "e695e456-c529-4541-dc6b-7e86b9840c76"
      },
      "execution_count": 16,
      "outputs": [
        {
          "output_type": "stream",
          "name": "stdout",
          "text": [
            "True\n"
          ]
        }
      ]
    },
    {
      "cell_type": "code",
      "source": [
        "def is_even(number):\n",
        "    if number % 2 == 0:\n",
        "      return True\n",
        "    return False\n",
        "print(\"the number is evevn:\" + str(is_even(15)))"
      ],
      "metadata": {
        "colab": {
          "base_uri": "https://localhost:8080/"
        },
        "id": "Wm2iY-rzVaNb",
        "outputId": "8427ae62-82fc-4af0-f1f2-f48345ddfe16"
      },
      "execution_count": 40,
      "outputs": [
        {
          "output_type": "stream",
          "name": "stdout",
          "text": [
            "the number is evevn:False\n"
          ]
        }
      ]
    },
    {
      "cell_type": "code",
      "source": [
        "def len_user(id):\n",
        "    if len(id) < 3:\n",
        "      print(\"INVALID USER ID. ID TOO SHORT\")\n",
        "    elif len(id) > 15:\n",
        "      print(\"INVALID USER ID. ID TOO LONG\")\n",
        "    else:\n",
        "      print(\"VALID ID.\")\n",
        "\n",
        "\n",
        "userid = len_user(raghavangctggfuyjugkuuhbkgy)"
      ],
      "metadata": {
        "colab": {
          "base_uri": "https://localhost:8080/",
          "height": 204
        },
        "id": "xqhMhhuaiWyA",
        "outputId": "83be2d3f-e782-4fad-d52f-0421135cd8a7"
      },
      "execution_count": 80,
      "outputs": [
        {
          "output_type": "error",
          "ename": "NameError",
          "evalue": "ignored",
          "traceback": [
            "\u001b[0;31m---------------------------------------------------------------------------\u001b[0m",
            "\u001b[0;31mNameError\u001b[0m                                 Traceback (most recent call last)",
            "\u001b[0;32m<ipython-input-80-c5fff02f247f>\u001b[0m in \u001b[0;36m<cell line: 10>\u001b[0;34m()\u001b[0m\n\u001b[1;32m      8\u001b[0m \u001b[0;34m\u001b[0m\u001b[0m\n\u001b[1;32m      9\u001b[0m \u001b[0;34m\u001b[0m\u001b[0m\n\u001b[0;32m---> 10\u001b[0;31m \u001b[0muserid\u001b[0m \u001b[0;34m=\u001b[0m \u001b[0mlen_user\u001b[0m\u001b[0;34m(\u001b[0m\u001b[0mraghavangctggfuyjugkuuhbkgy\u001b[0m\u001b[0;34m)\u001b[0m\u001b[0;34m\u001b[0m\u001b[0;34m\u001b[0m\u001b[0m\n\u001b[0m",
            "\u001b[0;31mNameError\u001b[0m: name 'raghavangctggfuyjugkuuhbkgy' is not defined"
          ]
        }
      ]
    },
    {
      "cell_type": "code",
      "source": [
        "def attempt(n):\n",
        "  x = 1\n",
        "  while x <= n:\n",
        "    print(\"Attempt\" + str(x))\n",
        "    x += 1\n",
        "  print(\"done\")\n",
        "\n",
        "attempt(5)"
      ],
      "metadata": {
        "colab": {
          "base_uri": "https://localhost:8080/"
        },
        "id": "eb9r7J--ZgWM",
        "outputId": "7bb41de5-22ca-48ef-a510-f0415a7358c7"
      },
      "execution_count": 8,
      "outputs": [
        {
          "output_type": "stream",
          "name": "stdout",
          "text": [
            "Attempt1\n",
            "Attempt2\n",
            "Attempt3\n",
            "Attempt4\n",
            "Attempt5\n",
            "done\n"
          ]
        }
      ]
    },
    {
      "cell_type": "code",
      "source": [
        "def count_factors(given_number):\n",
        "  factor = 1\n",
        "  count = 1\n",
        "  if given_number == 0:\n",
        "    return 0\n",
        "  while factor < given_number:\n",
        "    if given_number % factor == 0:\n",
        "      count += 1\n",
        "    factor += 1\n",
        "  return count\n",
        "\n",
        "print(count_factors(10))\n",
        "print(count_factors(0))\n",
        "print(count_factors(3))\n",
        "print(count_factors(10))\n",
        "print(count_factors(24))\n"
      ],
      "metadata": {
        "colab": {
          "base_uri": "https://localhost:8080/"
        },
        "id": "OTSNsFiIqgcl",
        "outputId": "40d52eee-1779-4721-d191-1587de946ce9"
      },
      "execution_count": 3,
      "outputs": [
        {
          "output_type": "stream",
          "name": "stdout",
          "text": [
            "4\n",
            "0\n",
            "2\n",
            "4\n",
            "8\n"
          ]
        }
      ]
    },
    {
      "cell_type": "code",
      "source": [
        "def"
      ],
      "metadata": {
        "id": "B4IFrqeVvnPk"
      },
      "execution_count": null,
      "outputs": []
    }
  ]
}