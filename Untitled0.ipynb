{
  "nbformat": 4,
  "nbformat_minor": 0,
  "metadata": {
    "colab": {
      "provenance": [],
      "authorship_tag": "ABX9TyMu27xeVjg3Sv9S2MBeGJsd",
      "include_colab_link": true
    },
    "kernelspec": {
      "name": "python3",
      "display_name": "Python 3"
    },
    "language_info": {
      "name": "python"
    }
  },
  "cells": [
    {
      "cell_type": "markdown",
      "metadata": {
        "id": "view-in-github",
        "colab_type": "text"
      },
      "source": [
        "<a href=\"https://colab.research.google.com/github/RaghavanSivakumaran/programmingpractice/blob/main/Untitled0.ipynb\" target=\"_parent\"><img src=\"https://colab.research.google.com/assets/colab-badge.svg\" alt=\"Open In Colab\"/></a>"
      ]
    },
    {
      "cell_type": "code",
      "execution_count": 3,
      "metadata": {
        "colab": {
          "base_uri": "https://localhost:8080/"
        },
        "id": "KbTGlY7P9-Pc",
        "outputId": "12dd8c68-5466-4adf-84de-af7917276660"
      },
      "outputs": [
        {
          "output_type": "stream",
          "name": "stdout",
          "text": [
            "Hello world!\n",
            "Hello world!\n",
            "Hello world!\n",
            "Hello world!\n",
            "Hello world!\n",
            "Hello world!\n",
            "Hello world!\n",
            "Hello world!\n",
            "Hello world!\n",
            "Hello world!\n"
          ]
        }
      ],
      "source": [
        "for i in range(10):\n",
        "       print(\"Hello world!\")"
      ]
    },
    {
      "cell_type": "code",
      "source": [
        "# using return values\n",
        "def area_of_triangle(base,height):\n",
        "    return base*height/2\n",
        "\n",
        "area_a = area_of_triangle(5,7)\n",
        "area_b = area_of_triangle(7,8)\n",
        "sum = area_a + area_b\n",
        "print (\"The sum of the area is: \" + str(sum))"
      ],
      "metadata": {
        "colab": {
          "base_uri": "https://localhost:8080/"
        },
        "id": "yCQkmpX1Xoab",
        "outputId": "a549bb5b-05c2-40d1-b354-f355ec7806d5"
      },
      "execution_count": 8,
      "outputs": [
        {
          "output_type": "stream",
          "name": "stdout",
          "text": [
            "The sum of the area is: 45.5\n"
          ]
        }
      ]
    },
    {
      "cell_type": "code",
      "source": [
        "def convert_seconds(seconds):\n",
        "    hours = seconds//3600\n",
        "    minutes = (seconds-hours*3600)//60\n",
        "    remaining_seconds = seconds - hours*3600 - minutes*60\n",
        "    return hours, minutes, remaining_seconds\n",
        "\n",
        "hours, minutes, remaining_seconds = convert_seconds(6000)\n",
        "print(hours,minutes,remaining_seconds)"
      ],
      "metadata": {
        "colab": {
          "base_uri": "https://localhost:8080/"
        },
        "id": "BRoq_iEVbCCI",
        "outputId": "5e4e823e-a56f-4f0a-fbb0-080629ad8a57"
      },
      "execution_count": 11,
      "outputs": [
        {
          "output_type": "stream",
          "name": "stdout",
          "text": [
            "1 40 0\n"
          ]
        }
      ]
    },
    {
      "cell_type": "code",
      "source": [
        "areaoftriangle = area_of_triangle(25,30)\n",
        "print(areaoftriangle)"
      ],
      "metadata": {
        "colab": {
          "base_uri": "https://localhost:8080/"
        },
        "id": "dnH0-IOSeu3X",
        "outputId": "8122b12c-848b-4696-b197-64d979e300fe"
      },
      "execution_count": 13,
      "outputs": [
        {
          "output_type": "stream",
          "name": "stdout",
          "text": [
            "375.0\n"
          ]
        }
      ]
    },
    {
      "cell_type": "code",
      "source": [
        "print(not\"A\">\"a\")"
      ],
      "metadata": {
        "colab": {
          "base_uri": "https://localhost:8080/"
        },
        "id": "NL90NbKUvutV",
        "outputId": "e695e456-c529-4541-dc6b-7e86b9840c76"
      },
      "execution_count": 16,
      "outputs": [
        {
          "output_type": "stream",
          "name": "stdout",
          "text": [
            "True\n"
          ]
        }
      ]
    },
    {
      "cell_type": "code",
      "source": [
        "def is_even(number):\n",
        "    if number % 2 == 0:\n",
        "      return True\n",
        "    return False\n",
        "print(\"the number is evevn:\" + str(is_even(15)))"
      ],
      "metadata": {
        "colab": {
          "base_uri": "https://localhost:8080/"
        },
        "id": "Wm2iY-rzVaNb",
        "outputId": "8427ae62-82fc-4af0-f1f2-f48345ddfe16"
      },
      "execution_count": 40,
      "outputs": [
        {
          "output_type": "stream",
          "name": "stdout",
          "text": [
            "the number is evevn:False\n"
          ]
        }
      ]
    },
    {
      "cell_type": "code",
      "source": [
        "def len_user(id):\n",
        "    if len(id) < 3:\n",
        "      print(\"INVALID USER ID. ID TOO SHORT\")\n",
        "    elif len(id) > 15:\n",
        "      print(\"INVALID USER ID. ID TOO LONG\")\n",
        "    else:\n",
        "      print(\"VALID ID.\")\n",
        "\n",
        "\n",
        "userid = len_user(raghavangctggfuyjugkuuhbkgy)"
      ],
      "metadata": {
        "colab": {
          "base_uri": "https://localhost:8080/",
          "height": 204
        },
        "id": "xqhMhhuaiWyA",
        "outputId": "83be2d3f-e782-4fad-d52f-0421135cd8a7"
      },
      "execution_count": 80,
      "outputs": [
        {
          "output_type": "error",
          "ename": "NameError",
          "evalue": "ignored",
          "traceback": [
            "\u001b[0;31m---------------------------------------------------------------------------\u001b[0m",
            "\u001b[0;31mNameError\u001b[0m                                 Traceback (most recent call last)",
            "\u001b[0;32m<ipython-input-80-c5fff02f247f>\u001b[0m in \u001b[0;36m<cell line: 10>\u001b[0;34m()\u001b[0m\n\u001b[1;32m      8\u001b[0m \u001b[0;34m\u001b[0m\u001b[0m\n\u001b[1;32m      9\u001b[0m \u001b[0;34m\u001b[0m\u001b[0m\n\u001b[0;32m---> 10\u001b[0;31m \u001b[0muserid\u001b[0m \u001b[0;34m=\u001b[0m \u001b[0mlen_user\u001b[0m\u001b[0;34m(\u001b[0m\u001b[0mraghavangctggfuyjugkuuhbkgy\u001b[0m\u001b[0;34m)\u001b[0m\u001b[0;34m\u001b[0m\u001b[0;34m\u001b[0m\u001b[0m\n\u001b[0m",
            "\u001b[0;31mNameError\u001b[0m: name 'raghavangctggfuyjugkuuhbkgy' is not defined"
          ]
        }
      ]
    },
    {
      "cell_type": "code",
      "source": [
        "def attempt(n):\n",
        "  x = 1\n",
        "  while x <= n:\n",
        "    print(\"Attempt\" + str(x))\n",
        "    x += 1\n",
        "  print(\"done\")\n",
        "\n",
        "attempt(5)"
      ],
      "metadata": {
        "colab": {
          "base_uri": "https://localhost:8080/"
        },
        "id": "eb9r7J--ZgWM",
        "outputId": "7bb41de5-22ca-48ef-a510-f0415a7358c7"
      },
      "execution_count": 8,
      "outputs": [
        {
          "output_type": "stream",
          "name": "stdout",
          "text": [
            "Attempt1\n",
            "Attempt2\n",
            "Attempt3\n",
            "Attempt4\n",
            "Attempt5\n",
            "done\n"
          ]
        }
      ]
    },
    {
      "cell_type": "code",
      "source": [
        "def count_factors(given_number):\n",
        "  factor = 1\n",
        "  count = 1\n",
        "  if given_number == 0:\n",
        "    return 0\n",
        "  while factor < given_number:\n",
        "    if given_number % factor == 0:\n",
        "      count += 1\n",
        "    factor += 1\n",
        "  return count\n",
        "\n",
        "print(count_factors(10))\n",
        "print(count_factors(0))\n",
        "print(count_factors(3))\n",
        "print(count_factors(10))\n",
        "print(count_factors(24))\n"
      ],
      "metadata": {
        "colab": {
          "base_uri": "https://localhost:8080/"
        },
        "id": "OTSNsFiIqgcl",
        "outputId": "40d52eee-1779-4721-d191-1587de946ce9"
      },
      "execution_count": 3,
      "outputs": [
        {
          "output_type": "stream",
          "name": "stdout",
          "text": [
            "4\n",
            "0\n",
            "2\n",
            "4\n",
            "8\n"
          ]
        }
      ]
    },
    {
      "cell_type": "code",
      "source": [
        "def addition_table(given_number):\n",
        "  iterated_number = 1\n",
        "  my_sum = 1\n",
        "  while iterated_number <= 5:\n",
        "    my_sum = given_number + iterated_number\n",
        "    if my_sum < 20:\n",
        "      break\n",
        "    print(str(given_number), \"+\", str(iterated_number), \"=\", str(my_sum))\n",
        "\n",
        "    iterated_number += 1\n",
        "\n",
        "print(addition_table(6))"
      ],
      "metadata": {
        "colab": {
          "base_uri": "https://localhost:8080/"
        },
        "id": "B4IFrqeVvnPk",
        "outputId": "bb1ea503-8a54-4c57-aa0b-8000be882913"
      },
      "execution_count": 10,
      "outputs": [
        {
          "output_type": "stream",
          "name": "stdout",
          "text": [
            "None\n"
          ]
        }
      ]
    },
    {
      "cell_type": "code",
      "source": [
        "for left in range (7):\n",
        "  for right in range (left,7):\n",
        "    print(\"[\" + str(left) + \"|\" + str(right) + \"]\" , end = \" \")\n",
        "  print()"
      ],
      "metadata": {
        "colab": {
          "base_uri": "https://localhost:8080/"
        },
        "id": "h8aLFY8k-gmP",
        "outputId": "22ee5a23-f4ec-4628-e985-d1f5387d1757"
      },
      "execution_count": 3,
      "outputs": [
        {
          "output_type": "stream",
          "name": "stdout",
          "text": [
            "[0|0] [0|1] [0|2] [0|3] [0|4] [0|5] [0|6] \n",
            "[1|1] [1|2] [1|3] [1|4] [1|5] [1|6] \n",
            "[2|2] [2|3] [2|4] [2|5] [2|6] \n",
            "[3|3] [3|4] [3|5] [3|6] \n",
            "[4|4] [4|5] [4|6] \n",
            "[5|5] [5|6] \n",
            "[6|6] \n"
          ]
        }
      ]
    },
    {
      "cell_type": "code",
      "source": [
        "teams = ['Dragon', 'Wolves', 'Pandas', 'Unicorn']\n",
        "for home_team in teams:\n",
        "  for away_team in teams:\n",
        "    if home_team != away_team:\n",
        "      print(home_team + \"VS\" + away_team)"
      ],
      "metadata": {
        "colab": {
          "base_uri": "https://localhost:8080/"
        },
        "id": "2gD3vzi5__oe",
        "outputId": "99f0e902-39c9-4da4-9e0d-296dc80d5d09"
      },
      "execution_count": 4,
      "outputs": [
        {
          "output_type": "stream",
          "name": "stdout",
          "text": [
            "DragonVSWolves\n",
            "DragonVSPandas\n",
            "DragonVSUnicorn\n",
            "WolvesVSDragon\n",
            "WolvesVSPandas\n",
            "WolvesVSUnicorn\n",
            "PandasVSDragon\n",
            "PandasVSWolves\n",
            "PandasVSUnicorn\n",
            "UnicornVSDragon\n",
            "UnicornVSWolves\n",
            "UnicornVSPandas\n"
          ]
        }
      ]
    },
    {
      "cell_type": "code",
      "source": [
        "\"  In the world of chaos\".lstrip()"
      ],
      "metadata": {
        "colab": {
          "base_uri": "https://localhost:8080/",
          "height": 35
        },
        "id": "uJ1Hrgg5Fu34",
        "outputId": "bcd74141-1ff4-4513-f48f-ce1b3e3e2940"
      },
      "execution_count": 1,
      "outputs": [
        {
          "output_type": "execute_result",
          "data": {
            "text/plain": [
              "'In the world of chaos'"
            ],
            "application/vnd.google.colaboratory.intrinsic+json": {
              "type": "string"
            }
          },
          "metadata": {},
          "execution_count": 1
        }
      ]
    },
    {
      "cell_type": "code",
      "source": [
        "value = 3323\n",
        "name = \"Raghavan\"\n",
        "\n",
        "print(\" Hi, {} has {} rare candies\".format(name, value))"
      ],
      "metadata": {
        "colab": {
          "base_uri": "https://localhost:8080/"
        },
        "id": "HUkKfO_6hAhB",
        "outputId": "f578ae75-78f7-4346-801f-d6d88b8663f3"
      },
      "execution_count": 6,
      "outputs": [
        {
          "output_type": "stream",
          "name": "stdout",
          "text": [
            " Hi, Raghavan has 3323 rare candies\n"
          ]
        }
      ]
    },
    {
      "cell_type": "code",
      "source": [
        "price = 75.8900\n",
        "tax = price*1.09\n",
        "print(\"Befor tax:£{:.2f} and after tax :£{:.2f}\".format(price, tax))"
      ],
      "metadata": {
        "colab": {
          "base_uri": "https://localhost:8080/"
        },
        "id": "HREGIi84i0sF",
        "outputId": "cded689d-ea0b-46c5-85e3-01a89388b61f"
      },
      "execution_count": 9,
      "outputs": [
        {
          "output_type": "stream",
          "name": "stdout",
          "text": [
            "Befor tax:£75.89 and after tax :£82.72\n"
          ]
        }
      ]
    },
    {
      "cell_type": "code",
      "source": [
        "def convert_weight(kg):\n",
        "  lb = kg*2.2\n",
        "  result = \"{} kg should be around {:.2f} lb\".format(kg,lb)\n",
        "  return result\n",
        "\n",
        "convert_weight(50)"
      ],
      "metadata": {
        "colab": {
          "base_uri": "https://localhost:8080/",
          "height": 35
        },
        "id": "zW77GI5MkR7j",
        "outputId": "c2e62866-8cef-46f2-d010-a8a0cae50c01"
      },
      "execution_count": 10,
      "outputs": [
        {
          "output_type": "execute_result",
          "data": {
            "text/plain": [
              "'50 kg should be around 110.00 lb'"
            ],
            "application/vnd.google.colaboratory.intrinsic+json": {
              "type": "string"
            }
          },
          "metadata": {},
          "execution_count": 10
        }
      ]
    },
    {
      "cell_type": "code",
      "source": [
        "def create_password(name, birth_year):\n",
        "  return(\"{}{}\".format(name[0:3],birth_year))\n",
        "\n",
        "print(create_password(\"Raghavan\",2004))"
      ],
      "metadata": {
        "colab": {
          "base_uri": "https://localhost:8080/"
        },
        "id": "s0xJwRc_85ea",
        "outputId": "5768e869-82fb-4a36-97c7-7c18c8332dd6"
      },
      "execution_count": 17,
      "outputs": [
        {
          "output_type": "stream",
          "name": "stdout",
          "text": [
            "Rag2004\n"
          ]
        }
      ]
    },
    {
      "cell_type": "code",
      "source": [
        "def replace_date(schedule, old_date,new_date):\n",
        "  if schedule.endswith(old_date):\n",
        "    p = len(old_date)\n",
        "    new_schedule = schedule[:-p] + schedule[-p:].replace(old_date,new_date)\n",
        "    return new_schedule\n",
        "  return schedule\n",
        "\n",
        "\n",
        "print(replace_date(\"Last year’s annual report will be released in March 2023\", \"2023\", \"2024\"))\n",
        ""
      ],
      "metadata": {
        "colab": {
          "base_uri": "https://localhost:8080/"
        },
        "id": "7Alf18scIXSR",
        "outputId": "d1db63b1-6c5d-4307-a695-df7afdb08c9e"
      },
      "execution_count": 19,
      "outputs": [
        {
          "output_type": "stream",
          "name": "stdout",
          "text": [
            "Last year’s annual report will be released in March 2024\n"
          ]
        }
      ]
    }
  ]
}